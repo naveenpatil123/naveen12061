{
 "cells": [
  {
   "cell_type": "code",
   "execution_count": 2,
   "metadata": {},
   "outputs": [
    {
     "name": "stdout",
     "output_type": "stream",
     "text": [
      "1\n"
     ]
    }
   ],
   "source": [
    "import tensorflow as tf\n",
    "a = tf.multiply(2, 2,)\n",
    "b = tf.multiply(3, 3)\n",
    "c = tf.add(a, b,)\n",
    "d = tf.multiply(2, 2,)\n",
    "e = tf.multiply(d, 3,)\n",
    "g = tf.subtract(c, e)\n",
    "\n",
    "with tf.Session() as sess:\n",
    "    writer = tf.summary.FileWriter(\"/tmp/tboard/output1\", sess.graph)\n",
    "    print(sess.run(g))\n",
    "    writer.close()"
   ]
  },
  {
   "cell_type": "code",
   "execution_count": 3,
   "metadata": {},
   "outputs": [
    {
     "name": "stdout",
     "output_type": "stream",
     "text": [
      "25\n"
     ]
    }
   ],
   "source": [
    "import tensorflow as tf\n",
    "a = tf.multiply(2, 2,)\n",
    "b = tf.multiply(3, 3)\n",
    "c = tf.multiply(4, 4,)\n",
    "e = tf.multiply(2, 2,)\n",
    "f = tf.multiply(e, 3,)\n",
    "g = tf.multiply(2, 2,)\n",
    "h = tf.multiply(g, 4,)\n",
    "i = tf.multiply(2, 3,)\n",
    "j = tf.multiply(i, 4,)\n",
    "k = tf.add(a,b,)\n",
    "l = tf.add(k, c,)\n",
    "m = tf.add(l, j,)\n",
    "n = tf.subtract(m, f,)\n",
    "o = tf.subtract(n, h,)\n",
    "with tf.Session() as sess:\n",
    "    writer = tf.summary.FileWriter(\"/tmp/tboard/output2\", sess.graph)\n",
    "    print(sess.run(o))\n",
    "    writer.close()"
   ]
  },
  {
   "cell_type": "code",
   "execution_count": null,
   "metadata": {
    "collapsed": true
   },
   "outputs": [],
   "source": []
  }
 ],
 "metadata": {
  "kernelspec": {
   "display_name": "Python 3",
   "language": "python",
   "name": "python3"
  },
  "language_info": {
   "codemirror_mode": {
    "name": "ipython",
    "version": 3
   },
   "file_extension": ".py",
   "mimetype": "text/x-python",
   "name": "python",
   "nbconvert_exporter": "python",
   "pygments_lexer": "ipython3",
   "version": "3.6.1"
  }
 },
 "nbformat": 4,
 "nbformat_minor": 2
}
